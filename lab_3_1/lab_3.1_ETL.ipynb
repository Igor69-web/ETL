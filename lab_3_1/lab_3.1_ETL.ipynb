{
 "cells": [
  {
   "cell_type": "code",
   "execution_count": 19,
   "id": "297fcdaa-f814-49df-8220-dcd7b8808c63",
   "metadata": {},
   "outputs": [],
   "source": [
    "#Для загрузки файла в Collab\n",
    "\n",
    "# from google.colab import files\n",
    "# uploaded = files.upload()"
   ]
  },
  {
   "cell_type": "code",
   "execution_count": 1,
   "id": "0fe40aa3-41b7-49d2-8945-21b8b004ec80",
   "metadata": {},
   "outputs": [
    {
     "name": "stdout",
     "output_type": "stream",
     "text": [
      "Collecting psycopg2Note: you may need to restart the kernel to use updated packages.\n",
      "\n",
      "  Downloading psycopg2-2.9.10-cp312-cp312-win_amd64.whl.metadata (5.0 kB)\n",
      "Requirement already satisfied: sqlalchemy in c:\\users\\butsi\\anaconda3\\lib\\site-packages (2.0.34)\n",
      "Requirement already satisfied: pandas in c:\\users\\butsi\\anaconda3\\lib\\site-packages (2.2.2)\n",
      "Requirement already satisfied: typing-extensions>=4.6.0 in c:\\users\\butsi\\anaconda3\\lib\\site-packages (from sqlalchemy) (4.11.0)\n",
      "Requirement already satisfied: greenlet!=0.4.17 in c:\\users\\butsi\\anaconda3\\lib\\site-packages (from sqlalchemy) (3.0.1)\n",
      "Requirement already satisfied: numpy>=1.26.0 in c:\\users\\butsi\\anaconda3\\lib\\site-packages (from pandas) (1.26.4)\n",
      "Requirement already satisfied: python-dateutil>=2.8.2 in c:\\users\\butsi\\anaconda3\\lib\\site-packages (from pandas) (2.9.0.post0)\n",
      "Requirement already satisfied: pytz>=2020.1 in c:\\users\\butsi\\anaconda3\\lib\\site-packages (from pandas) (2024.1)\n",
      "Requirement already satisfied: tzdata>=2022.7 in c:\\users\\butsi\\anaconda3\\lib\\site-packages (from pandas) (2023.3)\n",
      "Requirement already satisfied: six>=1.5 in c:\\users\\butsi\\anaconda3\\lib\\site-packages (from python-dateutil>=2.8.2->pandas) (1.16.0)\n",
      "Downloading psycopg2-2.9.10-cp312-cp312-win_amd64.whl (1.2 MB)\n",
      "   ---------------------------------------- 0.0/1.2 MB ? eta -:--:--\n",
      "   ---------------------------------------- 1.2/1.2 MB 9.6 MB/s eta 0:00:00\n",
      "Installing collected packages: psycopg2\n",
      "Successfully installed psycopg2-2.9.10\n"
     ]
    }
   ],
   "source": [
    "pip install psycopg2 sqlalchemy pandas"
   ]
  },
  {
   "cell_type": "code",
   "execution_count": 41,
   "id": "ce8c136f-1bea-4bad-896a-b48ebb679d2a",
   "metadata": {},
   "outputs": [
    {
     "name": "stdout",
     "output_type": "stream",
     "text": [
      "  employee_id first_name last_name     salary\n",
      "0     1692406        NaN       NaN   55725.24\n",
      "1     1527750        NaN       NaN  139174.88\n",
      "2     1527991     Caylen     Forde  245879.12\n",
      "3         NaN        NaN       NaN  101494.34\n",
      "4         NaN        NaN       NaN  101345.12\n"
     ]
    }
   ],
   "source": [
    "#Загрузка файла \n",
    "\n",
    "import pandas as pd\n",
    "\n",
    "# Загружаем данные\n",
    "salaries_df = pd.read_excel(\"salaries.xlsx\", engine=\"openpyxl\")\n",
    "\n",
    "# Просматриваем первые строки\n",
    "print(salaries_df.head())"
   ]
  },
  {
   "cell_type": "code",
   "execution_count": 86,
   "id": "feab4a50-45bb-40bf-8bc4-b4a1cfd1226d",
   "metadata": {},
   "outputs": [],
   "source": [
    "#Загруза данных из PostgresSQL\n",
    "\n",
    "import pandas as pd\n",
    "from sqlalchemy import create_engine\n",
    "\n",
    "# Параметры подключения\n",
    "DB_USER = \"postgres\"\n",
    "DB_PASSWORD = \"\"\n",
    "DB_HOST = \"localhost\"\n",
    "DB_PORT = \"5432\"\n",
    "DB_NAME = \"st_89\"\n",
    "\n",
    "# Подключение к базе\n",
    "engine = create_engine(f\"postgresql+psycopg2://{DB_USER}:{DB_PASSWORD}@{DB_HOST}:{DB_PORT}/{DB_NAME}\")\n",
    "\n",
    "\n",
    "bonus = \"SELECT * FROM bonuses;\"\n",
    "bonuses_df = pd.read_sql(bonus, engine)\n",
    "\n",
    "personal = \"SELECT * FROM personal_data;\"\n",
    "employees_personal_df = pd.read_sql(personal, engine)\n"
   ]
  },
  {
   "cell_type": "code",
   "execution_count": 45,
   "id": "4986eaa2-bdac-4eed-8069-04f4757e9bad",
   "metadata": {},
   "outputs": [
    {
     "name": "stdout",
     "output_type": "stream",
     "text": [
      "     employee_id     bonus\n",
      "0        1692406  23508.90\n",
      "1        1527750  23508.90\n",
      "2        1527991  23508.90\n",
      "3                 23508.90\n",
      "4                 23508.90\n",
      "...          ...       ...\n",
      "3211     1694778  20415.03\n",
      "3212      333482  23508.90\n",
      "3213      379301      0.00\n",
      "3214      386980  23508.90\n",
      "3215      456605  10028.73\n",
      "\n",
      "[3216 rows x 2 columns]\n"
     ]
    }
   ],
   "source": [
    "print(bonuses_df)"
   ]
  },
  {
   "cell_type": "code",
   "execution_count": 47,
   "id": "c991bcc1-5cfe-4b67-b305-dcb67655043c",
   "metadata": {},
   "outputs": [
    {
     "name": "stdout",
     "output_type": "stream",
     "text": [
      "     employee_id        first_name      last_name Date Of Birth  Gender  \\\n",
      "0        1692406                                                   Male   \n",
      "1        1527750                                                   Male   \n",
      "2        1527991            Caylen          Forde    1984-07-20  Female   \n",
      "3                                                                  Male   \n",
      "4                                                                  Male   \n",
      "...          ...               ...            ...           ...     ...   \n",
      "3211     1694778          Shi Ling            Lee    1995-05-21  Female   \n",
      "3212      333482  FRANCISCO JAVIER  SIMON GARRIDO    1965-04-22    Male   \n",
      "3213      379301         Elizabeth       La Fleur    1975-11-28  Female   \n",
      "3214      386980           Eduardo        Garriga    1983-07-21    Male   \n",
      "3215      456605             Tracy             Xu    1983-12-26  Female   \n",
      "\n",
      "        Country  \n",
      "0         Italy  \n",
      "1        Turkey  \n",
      "2        Turkey  \n",
      "3         Italy  \n",
      "4         Italy  \n",
      "...         ...  \n",
      "3211  Singapore  \n",
      "3212  Singapore  \n",
      "3213  Singapore  \n",
      "3214  Singapore  \n",
      "3215  Singapore  \n",
      "\n",
      "[3216 rows x 6 columns]\n"
     ]
    }
   ],
   "source": [
    "print(employees_personal_df)"
   ]
  },
  {
   "cell_type": "code",
   "execution_count": 57,
   "id": "b00a7b6a-7f0d-46f1-8846-d481fc50abc9",
   "metadata": {},
   "outputs": [
    {
     "name": "stdout",
     "output_type": "stream",
     "text": [
      "Данные по окладу изменены\n",
      "Данные по премиальным изменены\n",
      "Персональные данные изменены\n"
     ]
    }
   ],
   "source": [
    "import pandas as pd\n",
    "#Очиска данных оклада\n",
    "# Удаляем строки, где нет ID или оклада\n",
    "salaries_df.dropna(subset=[\"employee_id\", \"salary\"], inplace=True)\n",
    "\n",
    "# Удаляем отрицательные оклады (если есть)\n",
    "salaries_df = salaries_df[salaries_df[\"salary\"] >= 0]\n",
    "\n",
    "salaries_df_new = salaries_df\n",
    "\n",
    "print(\"Данные по окладу изменены\")\n",
    "\n",
    "# Очистка данных премий\n",
    "\n",
    "# Удаляем строки без ID или бонуса\n",
    "bonuses_df.dropna(subset=[\"employee_id\", \"bonus\"], inplace=True)\n",
    "\n",
    "# Удаляем отрицательные бонусы\n",
    "bonuses_df = bonuses_df[bonuses_df[\"bonus\"] >= 0]\n",
    "\n",
    "# Сохраняем очищенные данные\n",
    "bonuses_df_new = bonuses_df\n",
    "\n",
    "print(\"Данные по премиальным изменены\")\n",
    "\n",
    "# Очистка персональных данных\n",
    "# Удаляем строки без ID, имени или даты рождения\n",
    "employees_personal_df.dropna(subset=[\"employee_id\", \"first_name\", \"last_name\", \"Date Of Birth\"], inplace=True)\n",
    "\n",
    "# Проверяем корректность дат\n",
    "employees_personal_df[\"Date Of Birth\"] = pd.to_datetime(employees_personal_df[\"Date Of Birth\"], errors=\"coerce\")\n",
    "\n",
    "# Удаляем строки с некорректными датами рождения\n",
    "employees_personal_df.dropna(subset=[\"Date Of Birth\"], inplace=True)\n",
    "\n",
    "# Проверяем корректность значений в колонке \"Gender\"\n",
    "valid_genders = [\"Male\", \"Female\", \"Other\"]\n",
    "employees_personal_df = employees_personal_df[employees_personal_df[\"Gender\"].isin(valid_genders)]\n",
    "\n",
    "# Сохраняем очищенные данные\n",
    "personal_data_df_new = employees_personal_df\n",
    "\n",
    "print(\"Персональные данные изменены\")"
   ]
  },
  {
   "cell_type": "code",
   "execution_count": 88,
   "id": "54ba8037-eea4-400f-8ad8-9ebd15c99d40",
   "metadata": {},
   "outputs": [
    {
     "name": "stderr",
     "output_type": "stream",
     "text": [
      "2025-03-31 14:05:45,358 - Запуск процесса загрузки данных...\n",
      "2025-03-31 14:05:45,359 - Очистка данных завершена...\n",
      "2025-03-31 14:05:45,360 - Итоговый отчет создан.\n"
     ]
    },
    {
     "name": "stdout",
     "output_type": "stream",
     "text": [
      "Итоговый отчет final_salary_report.xlsx успешно создан!\n"
     ]
    }
   ],
   "source": [
    "import pandas as pd\n",
    "\n",
    "# Объединяем персональные данные с окладами по employee_id\n",
    "merged_df = pd.merge(personal_data_df_new, salaries_df_new, on=\"employee_id\", how=\"inner\")\n",
    "\n",
    "# Добавляем бонусы (inner join, чтобы не было пропущенных данных)\n",
    "merged_df = pd.merge(merged_df, bonuses_df_new, on=\"employee_id\", how=\"left\")\n",
    "\n",
    "\n",
    "# Добавляем колонку с итоговой зарплатой\n",
    "merged_df[\"total_salary\"] = merged_df[\"salary\"] + merged_df[\"bonus\"]\n",
    "\n",
    "# print(merged_df)\n",
    "\n",
    "# Сохраняем итоговый отчет\n",
    "merged_df.to_excel(\"final_salary_report.xlsx\", index=False, engine=\"openpyxl\")\n",
    "\n",
    "import logging\n",
    "\n",
    "logging.basicConfig(level=logging.INFO, format='%(asctime)s - %(message)s')\n",
    "\n",
    "logging.info(\"Запуск процесса загрузки данных...\")\n",
    "logging.info(\"Очистка данных завершена...\")\n",
    "logging.info(\"Итоговый отчет создан.\")\n",
    "\n",
    "print(\"Итоговый отчет final_salary_report.xlsx успешно создан!\")"
   ]
  },
  {
   "cell_type": "markdown",
   "id": "c4bc0191-75a6-494a-8fa8-ea70ff7701db",
   "metadata": {},
   "source": [
    "#Анализ и статистика данных"
   ]
  },
  {
   "cell_type": "code",
   "execution_count": 84,
   "id": "81189c0e-9b89-478b-8e16-efff18aa08e6",
   "metadata": {},
   "outputs": [
    {
     "data": {
      "image/png": "[encoded data removed]",
      "text/plain": [
       "<Figure size 640x480 with 1 Axes>"
      ]
     },
     "metadata": {},
     "output_type": "display_data"
    },
    {
     "name": "stdout",
     "output_type": "stream",
     "text": [
      "Статистика по данным:\n",
      "Общее количество сотрудников: 341\n",
      "Количество уникальных ID: 341\n",
      "Средняя зарплата: 77560.04\n",
      "Средний бонус: 15936.15\n"
     ]
    }
   ],
   "source": [
    "import matplotlib.pyplot as plt\n",
    "\n",
    "# Гистограмма распределения зарплат\n",
    "plt.hist(merged_df['salary'], bins=10, color='blue', edgecolor='black')\n",
    "plt.title(\"Распределение зарплат\")\n",
    "plt.xlabel(\"Зарплата\")\n",
    "plt.ylabel(\"Количество сотрудников\")\n",
    "plt.show()\n",
    "\n",
    "print(\"Статистика по данным:\")\n",
    "print(f\"Общее количество сотрудников: {len(merged_df)}\")\n",
    "print(f\"Количество уникальных ID: {merged_df['employee_id'].nunique()}\")\n",
    "print(f\"Средняя зарплата: {merged_df['salary'].mean():.2f}\")\n",
    "print(f\"Средний бонус: {merged_df['bonus'].mean():.2f}\")"
   ]
  }
 ],
 "metadata": {
  "kernelspec": {
   "display_name": "Python [conda env:base] *",
   "language": "python",
   "name": "conda-base-py"
  },
  "language_info": {
   "codemirror_mode": {
    "name": "ipython",
    "version": 3
   },
   "file_extension": ".py",
   "mimetype": "text/x-python",
   "name": "python",
   "nbconvert_exporter": "python",
   "pygments_lexer": "ipython3",
   "version": "3.12.7"
  }
 },
 "nbformat": 4,
 "nbformat_minor": 5
}
